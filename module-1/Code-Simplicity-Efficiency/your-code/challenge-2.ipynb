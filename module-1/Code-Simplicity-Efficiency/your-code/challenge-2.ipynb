{
 "cells": [
  {
   "cell_type": "code",
   "execution_count": 14,
   "metadata": {},
   "outputs": [
    {
     "name": "stdout",
     "output_type": "stream",
     "text": [
      "9.03 ms ± 173 µs per loop (mean ± std. dev. of 7 runs, 100 loops each)\n"
     ]
    }
   ],
   "source": [
    "\"\"\"\n",
    "The code below generates a given number of random strings that consists of numbers and \n",
    "lower case English letters. You can also define the range of the variable lengths of\n",
    "the strings being generated.\n",
    "\n",
    "The code is functional but has a lot of room for improvement. Use what you have learned\n",
    "about simple and efficient code, refactor the code.\n",
    "\"\"\"\n",
    "\n",
    "def RandomStringGenerator(l=12, a=['a','b','c','d','e','f','g','h','i','j','k','l','m','n','o','p','q','r','s','t','u','v','w','x','y','z','0','1','2','3','4','5','6','7','8','9']):\n",
    "    p = 0\n",
    "    s = ''\n",
    "    while p<l:\n",
    "        import random\n",
    "        s += random.choice(a)\n",
    "        p += 1\n",
    "    return s\n",
    "\n",
    "def BatchStringGenerator(n, a=8, b=12):\n",
    "    r = []\n",
    "    for i in range(n):\n",
    "        c = None\n",
    "        if a < b:\n",
    "            import random\n",
    "            c = random.choice(range(a, b))\n",
    "        elif a == b:\n",
    "            c = a\n",
    "        else:\n",
    "            import sys\n",
    "            sys.exit('Incorrect min and max string lengths. Try again.')\n",
    "        r.append(RandomStringGenerator(c))\n",
    "    return r\n",
    "\n",
    "#a = input('Enter minimum string length: ')\n",
    "#b = input('Enter maximum string length: ')\n",
    "#n = input('How many random strings to generate? ')\n",
    "\n",
    "#print(BatchStringGenerator(int(n), int(a), int(b)))\n",
    "\n",
    "%timeit BatchStringGenerator(100, 100, 100)"
   ]
  },
  {
   "cell_type": "code",
   "execution_count": 13,
   "metadata": {},
   "outputs": [
    {
     "name": "stdout",
     "output_type": "stream",
     "text": [
      "4.96 ms ± 57 µs per loop (mean ± std. dev. of 7 runs, 100 loops each)\n"
     ]
    }
   ],
   "source": [
    "import numpy\n",
    "import random\n",
    "import sys\n",
    "\n",
    "CHARACTERS = ['a','b','c','d','e','f','g','h','i','j','k','l','m','n','o','p','q','r','s','t','u','v','w','x','y','z','0','1','2','3','4','5','6','7','8','9']\n",
    "\n",
    "def RandomStringGenerator(l=12):\n",
    "    # using choice from numpy array to avoid loop\n",
    "    return ''.join(numpy.random.choice(CHARACTERS, size=l, replace=True, p=None))\n",
    "\n",
    "def BatchStringGenerator(n, a=8, b=12):\n",
    "    if a < b: \n",
    "        # list comprehension instead of classic loop\n",
    "        r = [RandomStringGenerator(random.choice(range(a, b))) for i in range(n)]\n",
    "    elif a==b:\n",
    "        # list comprehension instead of classic loop\n",
    "        r = [RandomStringGenerator(a) for i in range(n)]\n",
    "    else:\n",
    "        return 'Incorrect min and max string lengths. Try again.'    \n",
    "    return r \n",
    "\n",
    "#a = input('Enter minimum string length: ')\n",
    "#b = input('Enter maximum string length: ')\n",
    "#n = input('How many random strings to generate? ')\n",
    "\n",
    "#print(BatchStringGenerator(int(n), int(a), int(b)))\n",
    "\n",
    "%timeit BatchStringGenerator(100, 100, 100)"
   ]
  },
  {
   "cell_type": "code",
   "execution_count": null,
   "metadata": {},
   "outputs": [],
   "source": []
  },
  {
   "cell_type": "code",
   "execution_count": null,
   "metadata": {},
   "outputs": [],
   "source": []
  }
 ],
 "metadata": {
  "kernelspec": {
   "display_name": "Python 3",
   "language": "python",
   "name": "python3"
  },
  "language_info": {
   "codemirror_mode": {
    "name": "ipython",
    "version": 3
   },
   "file_extension": ".py",
   "mimetype": "text/x-python",
   "name": "python",
   "nbconvert_exporter": "python",
   "pygments_lexer": "ipython3",
   "version": "3.7.6"
  }
 },
 "nbformat": 4,
 "nbformat_minor": 4
}
