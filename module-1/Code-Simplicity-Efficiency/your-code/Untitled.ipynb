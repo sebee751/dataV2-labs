{
 "cells": [
  {
   "cell_type": "code",
   "execution_count": 17,
   "metadata": {},
   "outputs": [
    {
     "name": "stdout",
     "output_type": "stream",
     "text": [
      "189 µs ± 1.69 µs per loop (mean ± std. dev. of 7 runs, 10000 loops each)\n"
     ]
    }
   ],
   "source": [
    "\n",
    "import math\n",
    "def my_function(X):\n",
    "    check = False\n",
    "    for x in list(range(5, X))[::-1]:\n",
    "        for y in range(4, x):\n",
    "            z = math.sqrt((x**2-y**2))\n",
    "            if z.is_integer() and z!= 0:\n",
    "                check = True\n",
    "                break\n",
    "        if check:\n",
    "            break\n",
    "    return x\n",
    "\n",
    "%timeit my_function(200)"
   ]
  },
  {
   "cell_type": "code",
   "execution_count": 18,
   "metadata": {},
   "outputs": [
    {
     "name": "stdout",
     "output_type": "stream",
     "text": [
      "20.9 µs ± 230 ns per loop (mean ± std. dev. of 7 runs, 10000 loops each)\n"
     ]
    }
   ],
   "source": [
    "\n",
    "\n",
    "def hypothenuse_max(X):\n",
    "    # Le triangle rectangle a ses trois coté x, y, z tels que x > y > z\n",
    "    for x in range(X-1, 4, -1):\n",
    "        y_max = x-1 # car y < x\n",
    "        y_min = int((x*x/2)**(1/2)) # car y > z.\n",
    "                                    # dans le cas d'un triangle isocèle rectangle y = z = √(x²/2)\n",
    "                                    # le cas du triangle isocèle sera exclu car si y = z, x = √2*y et n'est donc pas un entier\n",
    "        for y in range(y_max, y_min, -1):\n",
    "            z = (x*x - y*y)**(1/2)\n",
    "            if z.is_integer():\n",
    "                # si on trouve un z entier, on retourne l'hyptohénuse\n",
    "                return x\n",
    "    # (facultatif) si on ne trouve aucun triangle rectangle avec trois côtés de longueur entière, on retourne 0\n",
    "    return 0\n",
    "\n",
    "%timeit hypothenuse_max(200)"
   ]
  },
  {
   "cell_type": "code",
   "execution_count": 15,
   "metadata": {},
   "outputs": [
    {
     "name": "stdout",
     "output_type": "stream",
     "text": [
      "774 ms ± 1.01 ms per loop (mean ± std. dev. of 7 runs, 1 loop each)\n"
     ]
    }
   ],
   "source": [
    "\"\"\"\n",
    "You are presented with an integer number larger than 5. Your goal is to identify the longest side\n",
    "possible in a right triangle whose sides are not longer than the number you are given.\n",
    "\n",
    "For example, if you are given the number 15, there are 3 possibilities to compose right triangles:\n",
    "\n",
    "1. [3, 4, 5]\n",
    "2. [6, 8, 10]\n",
    "3. [5, 12, 13]\n",
    "\n",
    "The following function shows one way to solve the problem but the code is not ideal or efficient.\n",
    "Refactor the code based on what you have learned about code simplicity and efficiency.\n",
    "\"\"\"\n",
    "\n",
    "def my_function(X):\n",
    "    solutions = []\n",
    "    for x in range(5, X):\n",
    "        for y in range(4, X):\n",
    "            for z in range(3, X):\n",
    "                if (x*x==y*y+z*z):\n",
    "                    solutions.append([x, y, z])\n",
    "    m = 0\n",
    "    for solution in solutions:\n",
    "        if m < max(solution):\n",
    "            m = max(solution)\n",
    "    return m\n",
    "\n",
    "#X = input(\"What is the maximal length of the triangle side? Enter a number: \")\n",
    "\n",
    "#print(\"The longest side possible is \" + str(my_function(int(X))))\n",
    "%timeit my_function(200)"
   ]
  },
  {
   "cell_type": "code",
   "execution_count": 25,
   "metadata": {},
   "outputs": [
    {
     "name": "stdout",
     "output_type": "stream",
     "text": [
      "1.33 ms ± 3.35 µs per loop (mean ± std. dev. of 7 runs, 1000 loops each)\n"
     ]
    }
   ],
   "source": [
    "small_side = lambda x, y: (x*x - y*y)**(1/2)\n",
    "\n",
    "def solutions(X):\n",
    "    return [(x, y, int(small_side(x, y)) for x in range(X-1, 4, -1) \n",
    "            for y in range(x-1, int((x*x/2)**(1/2)), -1)\n",
    "            if (small_side(x, y)).is_integer()\n",
    "           ]\n",
    "\n",
    "def cote_max(X):\n",
    "    solutions(X)[0][0]\n",
    "\n",
    "%timeit cote_max(200)    "
   ]
  },
  {
   "cell_type": "code",
   "execution_count": 23,
   "metadata": {},
   "outputs": [
    {
     "data": {
      "text/plain": [
       "197"
      ]
     },
     "execution_count": 23,
     "metadata": {},
     "output_type": "execute_result"
    }
   ],
   "source": [
    "small_side = lambda x, y: (x*x - y*y)**(1/2)\n",
    "\n",
    "def solutions(X):\n",
    "    return [[x, y, int(small_side(x, y))] for x in range(X-1, 4, -1) \n",
    "            for y in range(x-1, int((x*x/2)**(1/2)), -1)\n",
    "            if (small_side(x, y)).is_integer()\n",
    "           ]\n",
    "\n",
    "def cote_max(X):\n",
    "    return solutions(X)[0][0]\n",
    "\n",
    "cote_max(200)    "
   ]
  },
  {
   "cell_type": "code",
   "execution_count": null,
   "metadata": {},
   "outputs": [],
   "source": []
  }
 ],
 "metadata": {
  "kernelspec": {
   "display_name": "Python 3",
   "language": "python",
   "name": "python3"
  },
  "language_info": {
   "codemirror_mode": {
    "name": "ipython",
    "version": 3
   },
   "file_extension": ".py",
   "mimetype": "text/x-python",
   "name": "python",
   "nbconvert_exporter": "python",
   "pygments_lexer": "ipython3",
   "version": "3.7.6"
  }
 },
 "nbformat": 4,
 "nbformat_minor": 4
}
