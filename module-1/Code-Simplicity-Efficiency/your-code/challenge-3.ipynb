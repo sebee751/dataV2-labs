{
 "cells": [
  {
   "cell_type": "code",
   "execution_count": 20,
   "metadata": {},
   "outputs": [
    {
     "data": {
      "text/plain": [
       "299"
      ]
     },
     "execution_count": 20,
     "metadata": {},
     "output_type": "execute_result"
    }
   ],
   "source": [
    "\"\"\"\n",
    "You are presented with an integer number larger than 5. Your goal is to identify the longest side\n",
    "possible in a right triangle whose sides are not longer than the number you are given.\n",
    "\n",
    "For example, if you are given the number 15, there are 3 possibilities to compose right triangles:\n",
    "\n",
    "1. [3, 4, 5]\n",
    "2. [6, 8, 10]\n",
    "3. [5, 12, 13]\n",
    "\n",
    "The following function shows one way to solve the problem but the code is not ideal or efficient.\n",
    "Refactor the code based on what you have learned about code simplicity and efficiency.\n",
    "\"\"\"\n",
    "\n",
    "def my_function(X):\n",
    "    solutions = []\n",
    "    for x in range(5, X):\n",
    "        for y in range(4, X):\n",
    "            for z in range(3, X):\n",
    "                if (x*x==y*y+z*z):\n",
    "                    solutions.append([x, y, z])\n",
    "    m = 0\n",
    "    for solution in solutions:\n",
    "        if m < max(solution):\n",
    "            m = max(solution)\n",
    "    return m\n",
    "\n",
    "#X = input(\"What is the maximal length of the triangle side? Enter a number: \")\n",
    "\n",
    "#print(\"The longest side possible is \" + str(my_function(int(X))))\n",
    "\n",
    "my_function(15)"
   ]
  },
  {
   "cell_type": "code",
   "execution_count": 29,
   "metadata": {},
   "outputs": [
    {
     "data": {
      "text/plain": [
       "[[5, 4, 3],\n",
       " [10, 8, 6],\n",
       " [13, 12, 5],\n",
       " [15, 12, 9],\n",
       " [17, 15, 8],\n",
       " [20, 16, 12],\n",
       " [25, 20, 15],\n",
       " [25, 24, 7],\n",
       " [26, 24, 10],\n",
       " [29, 21, 20],\n",
       " [30, 24, 18],\n",
       " [34, 30, 16],\n",
       " [35, 28, 21],\n",
       " [37, 35, 12],\n",
       " [39, 36, 15],\n",
       " [40, 32, 24],\n",
       " [41, 40, 9],\n",
       " [45, 36, 27],\n",
       " [50, 40, 30],\n",
       " [50, 48, 14],\n",
       " [51, 45, 24],\n",
       " [52, 48, 20],\n",
       " [53, 45, 28],\n",
       " [55, 44, 33],\n",
       " [58, 42, 40],\n",
       " [60, 48, 36],\n",
       " [61, 60, 11],\n",
       " [65, 52, 39],\n",
       " [65, 56, 33],\n",
       " [65, 60, 25],\n",
       " [65, 63, 16],\n",
       " [68, 60, 32],\n",
       " [70, 56, 42],\n",
       " [73, 55, 48],\n",
       " [74, 70, 24],\n",
       " [75, 60, 45],\n",
       " [75, 72, 21],\n",
       " [78, 72, 30],\n",
       " [80, 64, 48],\n",
       " [82, 80, 18],\n",
       " [85, 68, 51],\n",
       " [85, 75, 40],\n",
       " [85, 77, 36],\n",
       " [85, 84, 13],\n",
       " [87, 63, 60],\n",
       " [89, 80, 39],\n",
       " [90, 72, 54],\n",
       " [91, 84, 35],\n",
       " [95, 76, 57],\n",
       " [97, 72, 65],\n",
       " [100, 80, 60],\n",
       " [100, 96, 28],\n",
       " [101, 99, 20],\n",
       " [102, 90, 48],\n",
       " [104, 96, 40],\n",
       " [105, 84, 63],\n",
       " [106, 90, 56],\n",
       " [109, 91, 60],\n",
       " [110, 88, 66],\n",
       " [111, 105, 36],\n",
       " [113, 112, 15],\n",
       " [115, 92, 69],\n",
       " [116, 84, 80],\n",
       " [117, 108, 45],\n",
       " [119, 105, 56],\n",
       " [120, 96, 72],\n",
       " [122, 120, 22],\n",
       " [123, 120, 27],\n",
       " [125, 100, 75],\n",
       " [125, 117, 44],\n",
       " [125, 120, 35],\n",
       " [130, 104, 78],\n",
       " [130, 112, 66],\n",
       " [130, 120, 50],\n",
       " [130, 126, 32],\n",
       " [135, 108, 81],\n",
       " [136, 120, 64],\n",
       " [137, 105, 88],\n",
       " [140, 112, 84],\n",
       " [143, 132, 55],\n",
       " [145, 105, 100],\n",
       " [145, 116, 87],\n",
       " [145, 143, 24],\n",
       " [145, 144, 17],\n",
       " [146, 110, 96],\n",
       " [148, 140, 48],\n",
       " [149, 140, 51],\n",
       " [150, 120, 90],\n",
       " [150, 144, 42],\n",
       " [153, 135, 72],\n",
       " [155, 124, 93],\n",
       " [156, 144, 60],\n",
       " [157, 132, 85],\n",
       " [159, 135, 84],\n",
       " [160, 128, 96],\n",
       " [164, 160, 36],\n",
       " [165, 132, 99],\n",
       " [169, 120, 119],\n",
       " [169, 156, 65],\n",
       " [170, 136, 102],\n",
       " [170, 150, 80],\n",
       " [170, 154, 72],\n",
       " [170, 168, 26],\n",
       " [173, 165, 52],\n",
       " [174, 126, 120],\n",
       " [175, 140, 105],\n",
       " [175, 168, 49],\n",
       " [178, 160, 78],\n",
       " [180, 144, 108],\n",
       " [181, 180, 19],\n",
       " [182, 168, 70],\n",
       " [183, 180, 33],\n",
       " [185, 148, 111],\n",
       " [185, 153, 104],\n",
       " [185, 175, 60],\n",
       " [185, 176, 57],\n",
       " [187, 165, 88],\n",
       " [190, 152, 114],\n",
       " [193, 168, 95],\n",
       " [194, 144, 130],\n",
       " [195, 156, 117],\n",
       " [195, 168, 99],\n",
       " [195, 180, 75],\n",
       " [195, 189, 48],\n",
       " [197, 195, 28],\n",
       " [200, 160, 120],\n",
       " [200, 192, 56],\n",
       " [202, 198, 40],\n",
       " [203, 147, 140],\n",
       " [204, 180, 96],\n",
       " [205, 156, 133],\n",
       " [205, 164, 123],\n",
       " [205, 187, 84],\n",
       " [205, 200, 45],\n",
       " [208, 192, 80],\n",
       " [210, 168, 126],\n",
       " [212, 180, 112],\n",
       " [215, 172, 129],\n",
       " [218, 182, 120],\n",
       " [219, 165, 144],\n",
       " [220, 176, 132],\n",
       " [221, 171, 140],\n",
       " [221, 195, 104],\n",
       " [221, 204, 85],\n",
       " [221, 220, 21],\n",
       " [222, 210, 72],\n",
       " [225, 180, 135],\n",
       " [225, 216, 63],\n",
       " [226, 224, 30],\n",
       " [229, 221, 60],\n",
       " [230, 184, 138],\n",
       " [232, 168, 160],\n",
       " [233, 208, 105],\n",
       " [234, 216, 90],\n",
       " [235, 188, 141],\n",
       " [238, 210, 112],\n",
       " [240, 192, 144],\n",
       " [241, 209, 120],\n",
       " [244, 240, 44],\n",
       " [245, 196, 147],\n",
       " [246, 240, 54],\n",
       " [247, 228, 95],\n",
       " [250, 200, 150],\n",
       " [250, 234, 88],\n",
       " [250, 240, 70],\n",
       " [255, 204, 153],\n",
       " [255, 225, 120],\n",
       " [255, 231, 108],\n",
       " [255, 252, 39],\n",
       " [257, 255, 32],\n",
       " [259, 245, 84],\n",
       " [260, 208, 156],\n",
       " [260, 224, 132],\n",
       " [260, 240, 100],\n",
       " [260, 252, 64],\n",
       " [261, 189, 180],\n",
       " [265, 212, 159],\n",
       " [265, 225, 140],\n",
       " [265, 247, 96],\n",
       " [265, 264, 23],\n",
       " [267, 240, 117],\n",
       " [269, 260, 69],\n",
       " [270, 216, 162],\n",
       " [272, 240, 128],\n",
       " [273, 252, 105],\n",
       " [274, 210, 176],\n",
       " [275, 220, 165],\n",
       " [275, 264, 77],\n",
       " [277, 252, 115],\n",
       " [280, 224, 168],\n",
       " [281, 231, 160],\n",
       " [285, 228, 171],\n",
       " [286, 264, 110],\n",
       " [287, 280, 63],\n",
       " [289, 240, 161],\n",
       " [289, 255, 136],\n",
       " [290, 210, 200],\n",
       " [290, 232, 174],\n",
       " [290, 286, 48],\n",
       " [290, 288, 34],\n",
       " [291, 216, 195],\n",
       " [292, 220, 192],\n",
       " [293, 285, 68],\n",
       " [295, 236, 177],\n",
       " [296, 280, 96],\n",
       " [298, 280, 102],\n",
       " [299, 276, 115]]"
      ]
     },
     "execution_count": 29,
     "metadata": {},
     "output_type": "execute_result"
    }
   ],
   "source": [
    "def my_function(X):\n",
    "    solutions = [[x, y, z] for x in range (5, X) for y in range (4, x) for z in range(3, y) if x*x == y*y + z*z]\n",
    "    return solutions\n",
    "\n",
    "my_function(300)"
   ]
  },
  {
   "cell_type": "code",
   "execution_count": 88,
   "metadata": {},
   "outputs": [
    {
     "data": {
      "text/plain": [
       "197"
      ]
     },
     "execution_count": 88,
     "metadata": {},
     "output_type": "execute_result"
    }
   ],
   "source": [
    "def my_function(X):\n",
    "    solutions = max([x for x in range (5, X) for y in range (4, x) for z in range(3, y) if x*x == y*y + z*z])\n",
    "    return solutions\n",
    "\n",
    "my_function(200)"
   ]
  },
  {
   "cell_type": "code",
   "execution_count": 91,
   "metadata": {},
   "outputs": [
    {
     "data": {
      "text/plain": [
       "13"
      ]
     },
     "execution_count": 91,
     "metadata": {},
     "output_type": "execute_result"
    }
   ],
   "source": [
    "def hypothenuse_max(X):\n",
    "    # Le triangle rectangle a ses trois coté x, y, z tels que x > y > z\n",
    "    for x in range(X-1, 4, -1):\n",
    "        y_max = x-1 # car y < x\n",
    "        y_min = int((x*x/2)**(1/2)) # car y > z. \n",
    "                                    # dans le cas d'un triangle isocèle rectangle y = z = √(x²/2)\n",
    "                                    # le cas du triangle isocèle sera exclu car si y = z, x = √2*y et n'est donc pas un entier\n",
    "        for y in range(y_max, y_min, -1):\n",
    "            z = (x*x - y*y)**(1/2)\n",
    "            if z.is_integer():\n",
    "                # si on trouve un z entier, on retourne l'hyptohénuse\n",
    "                return x\n",
    "    # (facultatif) si on ne trouve aucun triangle rectangle avec trois côtés de longueur entière, on retourne 0\n",
    "    return 0\n",
    "            \n",
    "hypothenuse_max(15)"
   ]
  },
  {
   "cell_type": "code",
   "execution_count": 114,
   "metadata": {},
   "outputs": [
    {
     "name": "stdout",
     "output_type": "stream",
     "text": [
      " "
     ]
    },
    {
     "data": {
      "text/plain": [
       "         29294726 function calls in 5.615 seconds\n",
       "\n",
       "   Ordered by: internal time\n",
       "\n",
       "   ncalls  tottime  percall  cumtime  percall filename:lineno(function)\n",
       "        1    2.571    2.571    5.615    5.615 <ipython-input-114-9d10245a515e>:4(<listcomp>)\n",
       " 14653596    2.432    0.000    2.432    0.000 <ipython-input-114-9d10245a515e>:1(<lambda>)\n",
       " 14641125    0.611    0.000    0.611    0.000 {method 'is_integer' of 'float' objects}\n",
       "        1    0.001    0.001    5.615    5.615 <string>:1(<module>)\n",
       "        1    0.000    0.000    5.615    5.615 {built-in method builtins.exec}\n",
       "        1    0.000    0.000    5.615    5.615 <ipython-input-114-9d10245a515e>:3(solutions)\n",
       "        1    0.000    0.000    0.000    0.000 {method 'disable' of '_lsprof.Profiler' objects}"
      ]
     },
     "metadata": {},
     "output_type": "display_data"
    }
   ],
   "source": [
    "small_side = lambda x, y: (x*x - y*y)**(1/2)\n",
    "\n",
    "def solutions(X):\n",
    "    return [(x, y, int(small_side(x, y))) for x in range(X, 4, -1) \n",
    "            for y in range(x-1, int((x*x/2)**(1/2)), -1)\n",
    "            if (small_side(x, y)).is_integer()\n",
    "           ]\n",
    "\n",
    "\n",
    "%prun solutions(10000)"
   ]
  },
  {
   "cell_type": "code",
   "execution_count": 117,
   "metadata": {},
   "outputs": [
    {
     "ename": "SyntaxError",
     "evalue": "invalid syntax (<ipython-input-117-23884d114fa4>, line 9)",
     "output_type": "error",
     "traceback": [
      "\u001b[0;36m  File \u001b[0;32m\"<ipython-input-117-23884d114fa4>\"\u001b[0;36m, line \u001b[0;32m9\u001b[0m\n\u001b[0;31m    return [(x, (x+1) as y) for x in range(5)]\u001b[0m\n\u001b[0m                       ^\u001b[0m\n\u001b[0;31mSyntaxError\u001b[0m\u001b[0;31m:\u001b[0m invalid syntax\n"
     ]
    }
   ],
   "source": [
    "'''def solutions(X):\n",
    "    return [[x, y, lambda z: ((x*x - y*y)**(1/2))] for x in range(X, 4, -1) \n",
    "            for y in range(x-1, int((x*x/2)**(1/2)), -1)\n",
    "            if ((x*x - y*y)**(1/2)).is_integer()\n",
    "           ]\n",
    "    '''\n",
    "\n",
    "def solutions(X):\n",
    "    return [(x, (x+1) as y) for x in range(5)]\n",
    "\n",
    "solutions(100)"
   ]
  },
  {
   "cell_type": "code",
   "execution_count": 118,
   "metadata": {},
   "outputs": [],
   "source": [
    "def test1(rng):\n",
    "    return [x**2 for x in range(rng)]\n",
    "    \n",
    "def test2(rng):\n",
    "    return [x*x for x in range(rng)]"
   ]
  },
  {
   "cell_type": "code",
   "execution_count": 119,
   "metadata": {},
   "outputs": [
    {
     "name": "stdout",
     "output_type": "stream",
     "text": [
      "196 ms ± 346 µs per loop (mean ± std. dev. of 7 runs, 1 loop each)\n"
     ]
    }
   ],
   "source": [
    "%timeit test1(1000000)"
   ]
  },
  {
   "cell_type": "code",
   "execution_count": 120,
   "metadata": {},
   "outputs": [
    {
     "name": "stdout",
     "output_type": "stream",
     "text": [
      "54.9 ms ± 215 µs per loop (mean ± std. dev. of 7 runs, 10 loops each)\n"
     ]
    }
   ],
   "source": [
    "%timeit test2(1000000)"
   ]
  },
  {
   "cell_type": "code",
   "execution_count": null,
   "metadata": {},
   "outputs": [],
   "source": []
  }
 ],
 "metadata": {
  "kernelspec": {
   "display_name": "Python 3",
   "language": "python",
   "name": "python3"
  },
  "language_info": {
   "codemirror_mode": {
    "name": "ipython",
    "version": 3
   },
   "file_extension": ".py",
   "mimetype": "text/x-python",
   "name": "python",
   "nbconvert_exporter": "python",
   "pygments_lexer": "ipython3",
   "version": "3.7.6"
  }
 },
 "nbformat": 4,
 "nbformat_minor": 4
}
