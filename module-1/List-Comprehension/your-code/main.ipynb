{
 "cells": [
  {
   "cell_type": "markdown",
   "metadata": {},
   "source": [
    "# List Comprehensions\n",
    "\n",
    "Complete the following set of exercises to solidify your knowledge of list comprehensions."
   ]
  },
  {
   "cell_type": "code",
   "execution_count": 1,
   "metadata": {},
   "outputs": [],
   "source": [
    "import os;"
   ]
  },
  {
   "cell_type": "markdown",
   "metadata": {},
   "source": [
    "#### 1. Use a list comprehension to create and print a list of consecutive integers starting with 1 and ending with 50."
   ]
  },
  {
   "cell_type": "code",
   "execution_count": 68,
   "metadata": {},
   "outputs": [
    {
     "name": "stdout",
     "output_type": "stream",
     "text": [
      "[1, 2, 3, 4, 5, 6, 7, 8, 9, 10, 11, 12, 13, 14, 15, 16, 17, 18, 19, 20, 21, 22, 23, 24, 25, 26, 27, 28, 29, 30, 31, 32, 33, 34, 35, 36, 37, 38, 39, 40, 41, 42, 43, 44, 45, 46, 47, 48, 49, 50]\n"
     ]
    }
   ],
   "source": [
    "print([i for i in range(1,51)])"
   ]
  },
  {
   "cell_type": "markdown",
   "metadata": {},
   "source": [
    "#### 2. Use a list comprehension to create and print a list of even numbers starting with 2 and ending with 200."
   ]
  },
  {
   "cell_type": "code",
   "execution_count": 69,
   "metadata": {},
   "outputs": [
    {
     "name": "stdout",
     "output_type": "stream",
     "text": [
      "[2, 4, 6, 8, 10, 12, 14, 16, 18, 20, 22, 24, 26, 28, 30, 32, 34, 36, 38, 40, 42, 44, 46, 48, 50, 52, 54, 56, 58, 60, 62, 64, 66, 68, 70, 72, 74, 76, 78, 80, 82, 84, 86, 88, 90, 92, 94, 96, 98, 100, 102, 104, 106, 108, 110, 112, 114, 116, 118, 120, 122, 124, 126, 128, 130, 132, 134, 136, 138, 140, 142, 144, 146, 148, 150, 152, 154, 156, 158, 160, 162, 164, 166, 168, 170, 172, 174, 176, 178, 180, 182, 184, 186, 188, 190, 192, 194, 196, 198, 200]\n"
     ]
    }
   ],
   "source": [
    "print([i for i in range(1, 201) if i%2 == 0])"
   ]
  },
  {
   "cell_type": "markdown",
   "metadata": {},
   "source": [
    "#### 3. Use a list comprehension to create and print a list containing all elements of the 10 x 4 array below."
   ]
  },
  {
   "cell_type": "code",
   "execution_count": 10,
   "metadata": {},
   "outputs": [],
   "source": [
    "a = [[0.84062117, 0.48006452, 0.7876326 , 0.77109654],\n",
    "       [0.44409793, 0.09014516, 0.81835917, 0.87645456],\n",
    "       [0.7066597 , 0.09610873, 0.41247947, 0.57433389],\n",
    "       [0.29960807, 0.42315023, 0.34452557, 0.4751035 ],\n",
    "       [0.17003563, 0.46843998, 0.92796258, 0.69814654],\n",
    "       [0.41290051, 0.19561071, 0.16284783, 0.97016248],\n",
    "       [0.71725408, 0.87702738, 0.31244595, 0.76615487],\n",
    "       [0.20754036, 0.57871812, 0.07214068, 0.40356048],\n",
    "       [0.12149553, 0.53222417, 0.9976855 , 0.12536346],\n",
    "       [0.80930099, 0.50962849, 0.94555126, 0.33364763]];"
   ]
  },
  {
   "cell_type": "code",
   "execution_count": 70,
   "metadata": {},
   "outputs": [
    {
     "name": "stdout",
     "output_type": "stream",
     "text": [
      "[0.84062117, 0.48006452, 0.7876326, 0.77109654, 0.44409793, 0.09014516, 0.81835917, 0.87645456, 0.7066597, 0.09610873, 0.41247947, 0.57433389, 0.29960807, 0.42315023, 0.34452557, 0.4751035, 0.17003563, 0.46843998, 0.92796258, 0.69814654, 0.41290051, 0.19561071, 0.16284783, 0.97016248, 0.71725408, 0.87702738, 0.31244595, 0.76615487, 0.20754036, 0.57871812, 0.07214068, 0.40356048, 0.12149553, 0.53222417, 0.9976855, 0.12536346, 0.80930099, 0.50962849, 0.94555126, 0.33364763]\n"
     ]
    }
   ],
   "source": [
    "#[j[i] for j in [j for j in a] for i in range(len(j))]\n",
    "print([i for j in a for i in j])"
   ]
  },
  {
   "cell_type": "markdown",
   "metadata": {},
   "source": [
    "#### 4. Add a condition to the list comprehension above so that only values greater than or equal to 0.5 are printed."
   ]
  },
  {
   "cell_type": "code",
   "execution_count": 71,
   "metadata": {},
   "outputs": [
    {
     "name": "stdout",
     "output_type": "stream",
     "text": [
      "[0.84062117, 0.7876326, 0.77109654, 0.81835917, 0.87645456, 0.7066597, 0.57433389, 0.92796258, 0.69814654, 0.97016248, 0.71725408, 0.87702738, 0.76615487, 0.57871812, 0.53222417, 0.9976855, 0.80930099, 0.50962849, 0.94555126]\n"
     ]
    }
   ],
   "source": [
    "print([i for j in a for i in j if i >= .5])"
   ]
  },
  {
   "cell_type": "markdown",
   "metadata": {},
   "source": [
    "#### 5. Use a list comprehension to create and print a list containing all elements of the 5 x 2 x 3 array below."
   ]
  },
  {
   "cell_type": "code",
   "execution_count": 38,
   "metadata": {},
   "outputs": [],
   "source": [
    "b = [[[0.55867166, 0.06210792, 0.08147297],\n",
    "        [0.82579068, 0.91512478, 0.06833034]],\n",
    "\n",
    "       [[0.05440634, 0.65857693, 0.30296619],\n",
    "        [0.06769833, 0.96031863, 0.51293743]],\n",
    "\n",
    "       [[0.09143215, 0.71893382, 0.45850679],\n",
    "        [0.58256464, 0.59005654, 0.56266457]],\n",
    "\n",
    "       [[0.71600294, 0.87392666, 0.11434044],\n",
    "        [0.8694668 , 0.65669313, 0.10708681]],\n",
    "\n",
    "       [[0.07529684, 0.46470767, 0.47984544],\n",
    "        [0.65368638, 0.14901286, 0.23760688]]];"
   ]
  },
  {
   "cell_type": "code",
   "execution_count": 72,
   "metadata": {},
   "outputs": [
    {
     "name": "stdout",
     "output_type": "stream",
     "text": [
      "[0.55867166, 0.06210792, 0.08147297, 0.82579068, 0.91512478, 0.06833034, 0.05440634, 0.65857693, 0.30296619, 0.06769833, 0.96031863, 0.51293743, 0.09143215, 0.71893382, 0.45850679, 0.58256464, 0.59005654, 0.56266457, 0.71600294, 0.87392666, 0.11434044, 0.8694668, 0.65669313, 0.10708681, 0.07529684, 0.46470767, 0.47984544, 0.65368638, 0.14901286, 0.23760688]\n"
     ]
    }
   ],
   "source": [
    "print([i for k in b for j in k for i in j])"
   ]
  },
  {
   "cell_type": "markdown",
   "metadata": {},
   "source": [
    "#### 6. Add a condition to the list comprehension above so that the last value in each subarray is printed, but only if it is less than or equal to 0.5."
   ]
  },
  {
   "cell_type": "code",
   "execution_count": 73,
   "metadata": {},
   "outputs": [
    {
     "name": "stdout",
     "output_type": "stream",
     "text": [
      "[0.08147297, 0.06833034, 0.30296619, 0.45850679, 0.11434044, 0.10708681, 0.47984544, 0.23760688]\n"
     ]
    }
   ],
   "source": [
    "print([j[-1] for k in b for j in k if j[-1] <= .5])"
   ]
  },
  {
   "cell_type": "markdown",
   "metadata": {},
   "source": [
    "#### 7. Use a list comprehension to select and print the names of all CSV files in the */data* directory."
   ]
  },
  {
   "cell_type": "code",
   "execution_count": 76,
   "metadata": {},
   "outputs": [
    {
     "name": "stdout",
     "output_type": "stream",
     "text": [
      "sample_file_0.csv\n",
      "sample_file_1.csv\n",
      "sample_file_2.csv\n",
      "sample_file_3.csv\n",
      "sample_file_4.csv\n",
      "sample_file_5.csv\n",
      "sample_file_6.csv\n",
      "sample_file_7.csv\n",
      "sample_file_8.csv\n",
      "sample_file_9.csv\n"
     ]
    },
    {
     "data": {
      "text/plain": [
       "[None, None, None, None, None, None, None, None, None, None]"
      ]
     },
     "execution_count": 76,
     "metadata": {},
     "output_type": "execute_result"
    }
   ],
   "source": [
    "[print(nomFichier) for nomFichier in os.listdir(\"../data\") if nomFichier[-4:] == '.csv']"
   ]
  },
  {
   "cell_type": "markdown",
   "metadata": {},
   "source": [
    "### Bonus"
   ]
  },
  {
   "cell_type": "markdown",
   "metadata": {},
   "source": [
    "Try to solve these katas using list comprehensions."
   ]
  },
  {
   "cell_type": "markdown",
   "metadata": {},
   "source": [
    "**Easy**\n",
    "- [Insert values](https://www.codewars.com/kata/invert-values)\n",
    "- [Sum Square(n)](https://www.codewars.com/kata/square-n-sum)\n",
    "- [Digitize](https://www.codewars.com/kata/digitize)\n",
    "- [List filtering](https://www.codewars.com/kata/list-filtering)\n",
    "- [Arithmetic list](https://www.codewars.com/kata/541da001259d9ca85d000688)\n",
    "\n",
    "**Medium**\n",
    "- [Multiples of 3 or 5](https://www.codewars.com/kata/514b92a657cdc65150000006)\n",
    "- [Count of positives / sum of negatives](https://www.codewars.com/kata/count-of-positives-slash-sum-of-negatives)\n",
    "- [Categorize new member](https://www.codewars.com/kata/5502c9e7b3216ec63c0001aa)\n",
    "\n",
    "**Advanced**\n",
    "- [Queue time counter](https://www.codewars.com/kata/queue-time-counter)"
   ]
  },
  {
   "cell_type": "code",
   "execution_count": 89,
   "metadata": {},
   "outputs": [
    {
     "data": {
      "text/plain": [
       "[-1, -2, -3, -4, -5]"
      ]
     },
     "execution_count": 89,
     "metadata": {},
     "output_type": "execute_result"
    }
   ],
   "source": [
    "# Easy : invert values\n",
    "def invert(liste):\n",
    "    return [-i for i in liste]\n",
    "\n",
    "invert([1,2,3,4,5])"
   ]
  },
  {
   "cell_type": "code",
   "execution_count": 90,
   "metadata": {},
   "outputs": [
    {
     "data": {
      "text/plain": [
       "9"
      ]
     },
     "execution_count": 90,
     "metadata": {},
     "output_type": "execute_result"
    }
   ],
   "source": [
    "# Easy : sum square\n",
    "def sum_square(liste):\n",
    "    return sum([i**2 for i in liste])\n",
    "\n",
    "sum_square([1, 2, 2])"
   ]
  },
  {
   "cell_type": "code",
   "execution_count": 91,
   "metadata": {},
   "outputs": [
    {
     "data": {
      "text/plain": [
       "[1, 2, 3, 4, 5, 6, 7, 8, 9]"
      ]
     },
     "execution_count": 91,
     "metadata": {},
     "output_type": "execute_result"
    }
   ],
   "source": [
    "# Easy : digitize\n",
    "def digitize(nombre):\n",
    "    return [int(s) for s in str(nombre)]\n",
    "\n",
    "digitize(123456789)"
   ]
  },
  {
   "cell_type": "code",
   "execution_count": 98,
   "metadata": {},
   "outputs": [
    {
     "data": {
      "text/plain": [
       "[1, 3, 7]"
      ]
     },
     "execution_count": 98,
     "metadata": {},
     "output_type": "execute_result"
    }
   ],
   "source": [
    "# Easy : list filtering\n",
    "def filter_list(liste):\n",
    "    return [i for i in liste if type(i)==int]\n",
    "\n",
    "filter_list([1, 3, 'a', 7, 'bf'])"
   ]
  },
  {
   "cell_type": "code",
   "execution_count": 109,
   "metadata": {},
   "outputs": [
    {
     "data": {
      "text/plain": [
       "[12, 15, 18, 21, 24]"
      ]
     },
     "execution_count": 109,
     "metadata": {},
     "output_type": "execute_result"
    }
   ],
   "source": [
    "# Easy : arithmetic list\n",
    "def arithmetic_list(first, c, n):\n",
    "    return [i for i in range(first, first+c*n, c)]\n",
    "\n",
    "arithmetic_list(12, 3, 5)"
   ]
  },
  {
   "cell_type": "code",
   "execution_count": 100,
   "metadata": {},
   "outputs": [
    {
     "data": {
      "text/plain": [
       "23"
      ]
     },
     "execution_count": 100,
     "metadata": {},
     "output_type": "execute_result"
    }
   ],
   "source": [
    "# Medium : multiples of 3 and 5\n",
    "def sum_mult_3_5(nbmax):\n",
    "    return sum([i for i in range(nbmax) if i%3==0 or i%5==0])\n",
    "\n",
    "sum_mult_3_5(10)"
   ]
  },
  {
   "cell_type": "code",
   "execution_count": 114,
   "metadata": {},
   "outputs": [
    {
     "data": {
      "text/plain": [
       "[10, -65]"
      ]
     },
     "execution_count": 114,
     "metadata": {},
     "output_type": "execute_result"
    }
   ],
   "source": [
    "# Medium : count of positives / sum of negatives\n",
    "def countpos_sumneg(liste):\n",
    "    return([len([i for i in liste if i>0]), sum([i for i in liste if i<0])])\n",
    "\n",
    "countpos_sumneg([1, 2, 3, 4, 5, 6, 7, 8, 9, 10, -11, -12, -13, -14, -15])"
   ]
  },
  {
   "cell_type": "code",
   "execution_count": 117,
   "metadata": {},
   "outputs": [
    {
     "data": {
      "text/plain": [
       "['Open', 'Open', 'Senior', 'Open', 'Open', 'Senior']"
      ]
     },
     "execution_count": 117,
     "metadata": {},
     "output_type": "execute_result"
    }
   ],
   "source": [
    "# Medium : categorize new member\n",
    "def categorize_new_member(liste):\n",
    "    return([\"Senior\" if i[0]>=55 and i[1]>7 else \"Open\" for i in liste])\n",
    "\n",
    "categorize_new_member([[18, 20],[45, 2],[61, 12],[37, 6],[21, 21],[78, 9]])"
   ]
  },
  {
   "cell_type": "code",
   "execution_count": 4,
   "metadata": {},
   "outputs": [
    {
     "data": {
      "text/plain": [
       "12"
      ]
     },
     "execution_count": 4,
     "metadata": {},
     "output_type": "execute_result"
    }
   ],
   "source": [
    "# Advanced : queue time counter - recursive programming\n",
    "def queue_time_counter(queue, position, temps=0):\n",
    "    temps += 1\n",
    "    queue[0] -= 1\n",
    "    if queue[position] == 0:\n",
    "        return temps\n",
    "    last = queue.pop(0)\n",
    "    if last != 0:\n",
    "        queue.append(last)\n",
    "    position -= 1  \n",
    "    if position < 0:\n",
    "        position = len(queue) - 1\n",
    "    #print(queue, position, temps)    \n",
    "    return queue_time_counter(queue, position, temps)\n",
    "\n",
    "queue_time_counter([2, 5, 3, 4, 6], 2)"
   ]
  },
  {
   "cell_type": "code",
   "execution_count": 1,
   "metadata": {},
   "outputs": [
    {
     "data": {
      "text/plain": [
       "1555"
      ]
     },
     "execution_count": 1,
     "metadata": {},
     "output_type": "execute_result"
    }
   ],
   "source": [
    "liste = [7, 77, 3, 56, 23, 32, 71, 41, 78, 65, 4, 25, 38, 56, 47, 71, 33, 31, 44, 80, 26, 48, 43, 45, 45, 67, 36, 85, 2, 3, 22, 69, 17, 67, 19, 82, 47]\n",
    "\n",
    "\n",
    "def queue_time_counter(queue, position):\n",
    "    temps_impression_billet = 1\n",
    "    # la personne en tête de la queue prends un billet\n",
    "    queue[0] -= 1\n",
    "    # Si la personne surveillée a tous ses billets, retourner 1\n",
    "    if queue[position] == 0:\n",
    "        return temps_impression_billet\n",
    "    # Le premier de la file d'attente se retrouve en dernière position s'il a encore au moins un billet à acheter\n",
    "    last = queue.pop(0)\n",
    "    if last != 0:\n",
    "        queue.append(last)\n",
    "    # La personne surveillée avance d'une position dans la file, si sa position devient inférieure à 0, elle retourne au bout de la file\n",
    "    position -= 1  \n",
    "    if position < 0:\n",
    "        position = len(queue) - 1\n",
    "    # Retourner 1 + le résultat de la fonction pour la nouvelle configuration    \n",
    "    return queue_time_counter(queue, position) + temps_impression_billet\n",
    "\n",
    "queue_time_counter(liste, 15)"
   ]
  },
  {
   "cell_type": "code",
   "execution_count": 40,
   "metadata": {},
   "outputs": [
    {
     "name": "stdout",
     "output_type": "stream",
     "text": [
      "[6, 18, 12, 16, 20]\n"
     ]
    }
   ],
   "source": [
    "# Advanced : queue time counter - List comprehension\n",
    "#queue = [2, 5, 3, 4, 6]\n",
    "       \n",
    "# Le temps d'attente est calculé de la façon suivante :\n",
    "\n",
    "# Temps d'attente de la personne en position <i> sans compter les personnes qui quitteront la file d'attente en cours de route :\n",
    "#    Temps pour obtenir le premier ticket : position dans la file d'attente + 1\n",
    "#        (i + 1)\n",
    "#    Nombre de fois où la file d'attente sera parcourue en totalité après obtention du premier ticket : (nombre de tickets souhaités - 1) * longueur de la file d'attente \n",
    "#        (queue[i] - 1) * len(queue)\n",
    "\n",
    "# Prise en compte des personnes quittant la file d'attente\n",
    "#    Pour les personnes situées devant <i> dans la file d'attente et désirant acheter moins de tickets que la personnes située en <i> :\n",
    "#    on fait la différence entre le nombre de tickets souhaités par ces personnes et le nombre de tickets souhaités par la personne en position <i>\n",
    "#        sum([j - queue[i] for j in queue[:i] if j < queue[i]])\n",
    "#    Pour les personnes situées derrière dans la file d'attente, le calcul est le même, mais on ajoute 1 au nombre de tickets souhaités \n",
    "#    (elles auront leur premier billet avant la personne en position <i>).\n",
    "#        sum([j - queue[i] + 1 for j in queue[i+1:] if j+1 < queue[i]])\n",
    "\n",
    "waiting_time = [((queue[i] - 1) * len(queue)) + (i + 1) + \n",
    "                sum([j - queue[i] for j in queue[:i] if j < queue[i]]) + \n",
    "                sum([j+1 - queue[i] for j in queue[i+1:] if j+1 < queue[i]]) \n",
    "                for i in range(len(queue))]\n",
    "\n",
    "print(waiting_time)"
   ]
  },
  {
   "cell_type": "code",
   "execution_count": 2,
   "metadata": {},
   "outputs": [
    {
     "name": "stdout",
     "output_type": "stream",
     "text": [
      "1555\n"
     ]
    }
   ],
   "source": [
    "queue = [7, 77, 3, 56, 23, 32, 71, 41, 78, 65, 4, 25, 38, 56, 47, 71, 33, 31, 44, 80, 26, 48, 43, 45, 45, 67, 36, 85, 2, 3, 22, 69, 17, 67, 19, 82, 47]\n",
    "\n",
    "waiting_time = [((queue[i] - 1) * len(queue)) + (i + 1) + \n",
    "                sum([min(0, j - queue[i]) for j in queue[:i]]) + \n",
    "                sum([min(0, j+1 - queue[i]) for j in queue[i+1:]]) \n",
    "                for i in range(len(queue))]\n",
    "\n",
    "print(waiting_time[15])"
   ]
  },
  {
   "cell_type": "code",
   "execution_count": 3,
   "metadata": {},
   "outputs": [
    {
     "name": "stdout",
     "output_type": "stream",
     "text": [
      "1555\n"
     ]
    }
   ],
   "source": [
    "liste = [7, 77, 3, 56, 23, 32, 71, 41, 78, 65, 4, 25, 38, 56, 47, 71, 33, 31, 44, 80, 26, 48, 43, 45, 45, 67, 36, 85, 2, 3, 22, 69, 17, 67, 19, 82, 47]\n",
    "\n",
    "def queue(queuers,pos):\n",
    "    return sum(min(queuer, queuers[pos] - (place > pos)) for place, queuer in enumerate(queuers))\n",
    "\n",
    "print(queue(liste, 15))\n"
   ]
  },
  {
   "cell_type": "code",
   "execution_count": 80,
   "metadata": {},
   "outputs": [],
   "source": [
    "queue = [0, 77, 3, 56, 23, 32, 71, 41, 78, 65, 4, 25, 38, 56, 47, 71, 33, 31, 44, 80, 26, 48, 43, 45, 45, 67, 36, 85, 2, 3, 22, 69, 17, 67, 19, 82, 47, 4, 7, 85, 60, 75, 40, 47, 43, 68, 74, 52, 70, 11, 9, 58, 56, 1, 41, 83, 48, 75, 1, 22, 63, 81, 26, 22, 42, 52, 63, 28, 73, 79, 50, 48, 53, 76, 73, 78, 68, 57, 59, 71, 60, 19, 1, 37, 52, 76, 68, 12]\n",
    "\n"
   ]
  },
  {
   "cell_type": "code",
   "execution_count": 74,
   "metadata": {},
   "outputs": [
    {
     "ename": "IndexError",
     "evalue": "list index out of range",
     "output_type": "error",
     "traceback": [
      "\u001b[1;31m---------------------------------------------------------------------------\u001b[0m",
      "\u001b[1;31mIndexError\u001b[0m                                Traceback (most recent call last)",
      "\u001b[1;32m<ipython-input-74-80918e21cd24>\u001b[0m in \u001b[0;36m<module>\u001b[1;34m\u001b[0m\n\u001b[0;32m      6\u001b[0m \u001b[1;33m\u001b[0m\u001b[0m\n\u001b[0;32m      7\u001b[0m \u001b[1;33m\u001b[0m\u001b[0m\n\u001b[1;32m----> 8\u001b[1;33m \u001b[0mprint\u001b[0m\u001b[1;33m(\u001b[0m\u001b[0mwaiting_time\u001b[0m\u001b[1;33m[\u001b[0m\u001b[1;36m15\u001b[0m\u001b[1;33m]\u001b[0m\u001b[1;33m)\u001b[0m\u001b[1;33m\u001b[0m\u001b[1;33m\u001b[0m\u001b[0m\n\u001b[0m",
      "\u001b[1;31mIndexError\u001b[0m: list index out of range"
     ]
    }
   ],
   "source": [
    "\n",
    "\n",
    "waiting_time = [((queue[i] - 1) * len(queue)) + (i + 1) + \n",
    "                sum([min(0, j + int(j>i) - queue[i]) for j in queue]) \n",
    "                for i in range(len(queue))]\n",
    "\n",
    "\n",
    "\n",
    "\n",
    "print(waiting_time[15])\n"
   ]
  },
  {
   "cell_type": "code",
   "execution_count": 75,
   "metadata": {},
   "outputs": [
    {
     "ename": "IndexError",
     "evalue": "list index out of range",
     "output_type": "error",
     "traceback": [
      "\u001b[1;31m---------------------------------------------------------------------------\u001b[0m",
      "\u001b[1;31mIndexError\u001b[0m                                Traceback (most recent call last)",
      "\u001b[1;32m<ipython-input-75-cf2a032acbe8>\u001b[0m in \u001b[0;36m<module>\u001b[1;34m\u001b[0m\n\u001b[0;32m      3\u001b[0m                 for place, nombre_tickets in enumerate(queue)]\n\u001b[0;32m      4\u001b[0m \u001b[1;33m\u001b[0m\u001b[0m\n\u001b[1;32m----> 5\u001b[1;33m \u001b[0mwaiting_time\u001b[0m\u001b[1;33m[\u001b[0m\u001b[1;36m15\u001b[0m\u001b[1;33m]\u001b[0m\u001b[1;33m\u001b[0m\u001b[1;33m\u001b[0m\u001b[0m\n\u001b[0m",
      "\u001b[1;31mIndexError\u001b[0m: list index out of range"
     ]
    }
   ],
   "source": [
    "\n",
    "waiting_time = [((nombre_tickets - 1) * len(queue)) + (place + 1) + \n",
    "                sum([min(0, position + int(position>place) - nombre_tickets) for position in queue]) \n",
    "                for place, nombre_tickets in enumerate(queue)]\n",
    "\n",
    "waiting_time[15]"
   ]
  },
  {
   "cell_type": "code",
   "execution_count": null,
   "metadata": {},
   "outputs": [],
   "source": []
  }
 ],
 "metadata": {
  "kernelspec": {
   "display_name": "Python 3",
   "language": "python",
   "name": "python3"
  },
  "language_info": {
   "codemirror_mode": {
    "name": "ipython",
    "version": 3
   },
   "file_extension": ".py",
   "mimetype": "text/x-python",
   "name": "python",
   "nbconvert_exporter": "python",
   "pygments_lexer": "ipython3",
   "version": "3.7.6"
  }
 },
 "nbformat": 4,
 "nbformat_minor": 4
}
