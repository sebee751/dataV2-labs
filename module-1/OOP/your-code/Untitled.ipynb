{
 "cells": [
  {
   "cell_type": "markdown",
   "metadata": {},
   "source": [
    "![Ironhack logo](https://i.imgur.com/1QgrNNw.png)\n",
    "\n",
    "# Lab | Object-Oriented Programming\n",
    "Let's practise a bit of object-oriented programming to strengthen everything we learned in class. \n",
    "\n",
    "## Your Task\n",
    "Solve the following katas using python objects:\n",
    "\n",
    "* [Remove All The Marked Elements of a List](https://www.codewars.com/kata/remove-all-the-marked-elements-of-a-list)\n",
    "* [Method For Counting Total Occurence Of Specific Digits](https://www.codewars.com/kata/method-for-counting-total-occurence-of-specific-digits)\n",
    "* [Ordered Count of Characters](https://www.codewars.com/kata/ordered-count-of-characters)\n",
    "\n",
    "## Deliverables\n",
    "Once you finish the task, send your solution links to the TAs. "
   ]
  },
  {
   "cell_type": "raw",
   "metadata": {},
   "source": [
    "l = List()\n",
    "\n",
    "integer_list =  [1, 1, 2 ,3 ,1 ,2 ,3 ,4]\n",
    "values_list = [1, 3]\n",
    "l.remove_(integer_list, values_list) == [2, 2, 4]\n",
    "\n",
    "integer_list = [1, 1, 2 ,3 ,1 ,2 ,3 ,4, 4, 3 ,5, 6, 7, 2, 8]\n",
    "lst = [1, 3, 4, 2]\n",
    "l.remove_(integer_list, values_list) == [5, 6 ,7 ,8]\n",
    "\n",
    "integer_list = [8, 2, 7, 2, 3, 4, 6, 5, 4, 4, 1, 2 , 3]\n",
    "lst = [2, 4, 3]\n",
    "l.remove_(integer_list, values_list) == [8, 7, 6, 5, 1]"
   ]
  },
  {
   "cell_type": "code",
   "execution_count": 19,
   "metadata": {},
   "outputs": [
    {
     "data": {
      "text/plain": [
       "[2, 2, 4]"
      ]
     },
     "execution_count": 19,
     "metadata": {},
     "output_type": "execute_result"
    }
   ],
   "source": [
    "'''\n",
    "class List():\n",
    "    def __init__(self, integer_list):\n",
    "        self.integer_list = integer_list\n",
    "        \n",
    "    def remove_(self, values_list):\n",
    "        result_list = [n for n in self.integer_list if n not in values_list]\n",
    "        return result_list\n",
    "\n",
    "l = List([1, 1, 2 ,3 ,1 ,2 ,3 ,4])\n",
    "l.remove_([1, 3])\n",
    "'''"
   ]
  },
  {
   "cell_type": "code",
   "execution_count": 47,
   "metadata": {},
   "outputs": [],
   "source": [
    "class List():\n",
    "        \n",
    "    def remove_(self, starting_values, values_to_remove):\n",
    "        result_list = [n for n in starting_values if n not in values_to_remove]\n",
    "        return result_list\n",
    "\n",
    "l = List()"
   ]
  },
  {
   "cell_type": "code",
   "execution_count": 48,
   "metadata": {},
   "outputs": [
    {
     "ename": "SyntaxError",
     "evalue": "invalid syntax (<ipython-input-48-feacdbe36b14>, line 4)",
     "output_type": "error",
     "traceback": [
      "\u001b[0;36m  File \u001b[0;32m\"<ipython-input-48-feacdbe36b14>\"\u001b[0;36m, line \u001b[0;32m4\u001b[0m\n\u001b[0;31m    integer_list.\u001b[0m\n\u001b[0m                 ^\u001b[0m\n\u001b[0;31mSyntaxError\u001b[0m\u001b[0;31m:\u001b[0m invalid syntax\n"
     ]
    }
   ],
   "source": [
    "integer_list =  [1, 1, 2 ,3 ,1 ,2 ,3 ,4]\n",
    "values_list = [1, 3]\n",
    "\n",
    "integer_list.\n",
    "print(integer_list.remove(1))"
   ]
  },
  {
   "cell_type": "code",
   "execution_count": 49,
   "metadata": {},
   "outputs": [
    {
     "data": {
      "text/plain": [
       "True"
      ]
     },
     "execution_count": 49,
     "metadata": {},
     "output_type": "execute_result"
    }
   ],
   "source": [
    "integer_list =  [1, 1, 2 ,3 ,1 ,2 ,3 ,4]\n",
    "values_list = [1, 3]\n",
    "l.remove_(integer_list, values_list) == [2, 2, 4]\n"
   ]
  },
  {
   "cell_type": "code",
   "execution_count": 50,
   "metadata": {},
   "outputs": [
    {
     "data": {
      "text/plain": [
       "True"
      ]
     },
     "execution_count": 50,
     "metadata": {},
     "output_type": "execute_result"
    }
   ],
   "source": [
    "integer_list = [1, 1, 2 ,3 ,1 ,2 ,3 ,4, 4, 3 ,5, 6, 7, 2, 8]\n",
    "values_list = [1, 3, 4, 2]\n",
    "l.remove_(integer_list, values_list) == [5, 6 ,7 ,8]"
   ]
  },
  {
   "cell_type": "code",
   "execution_count": 51,
   "metadata": {},
   "outputs": [
    {
     "data": {
      "text/plain": [
       "True"
      ]
     },
     "execution_count": 51,
     "metadata": {},
     "output_type": "execute_result"
    }
   ],
   "source": [
    "integer_list = [8, 2, 7, 2, 3, 4, 6, 5, 4, 4, 1, 2 , 3]\n",
    "values_list = [2, 4, 3]\n",
    "l.remove_(integer_list, values_list) == [8, 7, 6, 5, 1]"
   ]
  },
  {
   "cell_type": "raw",
   "metadata": {},
   "source": [
    "We need a method in the List Class that may count specific digits from a given list of integers. This marked digits will be given in a second list. The method .count_spec_digits()/.countSpecDigits() will accept two arguments, a list of an uncertain amount of integers integers_lists/integersLists (and of an uncertain amount of digits, too) and a second list, digits_list/digitsList that has the specific digits to count which length cannot be be longer than 10 (It's obvious, we've got ten digits). The method will output a list of tuples, each tuple having two elements, the first one will be a digit to count, and second one, its corresponding total frequency in all the integers of the first list. This list of tuples should be ordered with the same order that the digits have in digitsList\n",
    "\n",
    "Let's see some cases:\n",
    "\n",
    "l = List()\n",
    "\n",
    "integers_list =  [1, 1, 2 ,3 ,1 ,2 ,3 ,4]\n",
    "digits_list = [1, 3]\n",
    "l.count_spec_digits(integers_list, digits_list) == [(1, 3), (3, 2)]\n",
    "\n",
    "integers_list = [-18, -31, 81, -19, 111, -888]\n",
    "digits_list = [1, 8, 4]\n",
    "l.count_spec_digits(integers_list, digits_list) == [(1, 7), (8, 5), (4, 0)]\n",
    "\n",
    "integers_list = [-77, -65, 56, -79, 6666, 222]\n",
    "digits_list = [1, 8, 4]\n",
    "l.count_spec_digits(integers_list, digits_list) == [(1, 0), (8, 0), (4, 0)]\n",
    "\n",
    "Enjoy it!!\n"
   ]
  },
  {
   "cell_type": "code",
   "execution_count": 78,
   "metadata": {},
   "outputs": [],
   "source": [
    "class List():\n",
    "        \n",
    "    def remove_(self, starting_values, values_to_remove):\n",
    "        result_list = [n for n in starting_values if n not in values_to_remove]\n",
    "        return result_list\n",
    "    \n",
    "    def count_spec_digits(self, starting_values, digits_to_count):\n",
    "        starting_values_str = ''.join([str(n) for n in starting_values])\n",
    "        result_tuples_list = [(n, starting_values_str.count(str(n))) for n in digits_to_count]\n",
    "        return result_tuples_list\n",
    "    \n",
    "l = List()"
   ]
  },
  {
   "cell_type": "code",
   "execution_count": 79,
   "metadata": {},
   "outputs": [
    {
     "data": {
      "text/plain": [
       "True"
      ]
     },
     "execution_count": 79,
     "metadata": {},
     "output_type": "execute_result"
    }
   ],
   "source": [
    "integers_list =  [1, 1, 2 ,3 ,1 ,2 ,3 ,4]\n",
    "digits_list = [1, 3]\n",
    "l.count_spec_digits(integers_list, digits_list) == [(1, 3), (3, 2)]"
   ]
  },
  {
   "cell_type": "code",
   "execution_count": 80,
   "metadata": {},
   "outputs": [
    {
     "data": {
      "text/plain": [
       "True"
      ]
     },
     "execution_count": 80,
     "metadata": {},
     "output_type": "execute_result"
    }
   ],
   "source": [
    "integers_list = [-18, -31, 81, -19, 111, -888]\n",
    "digits_list = [1, 8, 4]\n",
    "l.count_spec_digits(integers_list, digits_list) == [(1, 7), (8, 5), (4, 0)]"
   ]
  },
  {
   "cell_type": "code",
   "execution_count": 81,
   "metadata": {},
   "outputs": [
    {
     "data": {
      "text/plain": [
       "True"
      ]
     },
     "execution_count": 81,
     "metadata": {},
     "output_type": "execute_result"
    }
   ],
   "source": [
    "integers_list = [-77, -65, 56, -79, 6666, 222]\n",
    "digits_list = [1, 8, 4]\n",
    "l.count_spec_digits(integers_list, digits_list) == [(1, 0), (8, 0), (4, 0)]"
   ]
  },
  {
   "cell_type": "raw",
   "metadata": {},
   "source": [
    "Count the number of occurrences of each character and return it as a list of tuples in order of appearance. For empty output return an empty list.\n",
    "\n",
    "Example:\n",
    "\n",
    "ordered_count(\"abracadabra\") == [('a', 5), ('b', 2), ('r', 2), ('c', 1), ('d', 1)]"
   ]
  },
  {
   "cell_type": "code",
   "execution_count": 92,
   "metadata": {},
   "outputs": [],
   "source": [
    "def ordered_count(word):\n",
    "    return [(letter, word.count(letter)) for position, letter in enumerate(word) if letter not in word[:position]]"
   ]
  },
  {
   "cell_type": "code",
   "execution_count": 93,
   "metadata": {},
   "outputs": [
    {
     "data": {
      "text/plain": [
       "[('a', 5), ('b', 2), ('r', 2), ('c', 1), ('d', 1)]"
      ]
     },
     "execution_count": 93,
     "metadata": {},
     "output_type": "execute_result"
    }
   ],
   "source": [
    "ordered_count(\"abracadabra\")"
   ]
  },
  {
   "cell_type": "code",
   "execution_count": null,
   "metadata": {},
   "outputs": [],
   "source": []
  }
 ],
 "metadata": {
  "kernelspec": {
   "display_name": "Python 3",
   "language": "python",
   "name": "python3"
  },
  "language_info": {
   "codemirror_mode": {
    "name": "ipython",
    "version": 3
   },
   "file_extension": ".py",
   "mimetype": "text/x-python",
   "name": "python",
   "nbconvert_exporter": "python",
   "pygments_lexer": "ipython3",
   "version": "3.7.7"
  }
 },
 "nbformat": 4,
 "nbformat_minor": 4
}
