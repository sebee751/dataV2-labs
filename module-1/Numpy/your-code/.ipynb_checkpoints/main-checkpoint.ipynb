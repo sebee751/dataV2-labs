{
 "cells": [
  {
   "cell_type": "markdown",
   "metadata": {},
   "source": [
    "# Introduction to NumPy\n",
    "\n",
    "\n",
    "#### 1. Import NumPy under the name np."
   ]
  },
  {
   "cell_type": "code",
   "execution_count": 148,
   "metadata": {},
   "outputs": [],
   "source": [
    "# your code here\n",
    "import numpy as np"
   ]
  },
  {
   "cell_type": "markdown",
   "metadata": {},
   "source": [
    "#### 2. Print your NumPy version."
   ]
  },
  {
   "cell_type": "code",
   "execution_count": 149,
   "metadata": {},
   "outputs": [
    {
     "data": {
      "text/plain": [
       "'1.18.1'"
      ]
     },
     "execution_count": 149,
     "metadata": {},
     "output_type": "execute_result"
    }
   ],
   "source": [
    "# your code here\n",
    "np.__version__"
   ]
  },
  {
   "cell_type": "markdown",
   "metadata": {},
   "source": [
    "#### 3. Generate a 2x3x5 3-dimensional array with random values. Assign the array to variable *a*.\n",
    "**Challenge**: there are at least three easy ways that use numpy to generate random arrays. How many ways can you find?"
   ]
  },
  {
   "cell_type": "code",
   "execution_count": 150,
   "metadata": {},
   "outputs": [],
   "source": [
    "# Method 1\n",
    "a = np.random.randn(2, 3, 5)"
   ]
  },
  {
   "cell_type": "code",
   "execution_count": 151,
   "metadata": {},
   "outputs": [],
   "source": [
    "# Method 2\n",
    "a = np.random.random([2, 3, 5])"
   ]
  },
  {
   "cell_type": "code",
   "execution_count": 152,
   "metadata": {},
   "outputs": [],
   "source": [
    "# Method 3\n",
    "a = np.random.rand(2, 3, 5)"
   ]
  },
  {
   "cell_type": "code",
   "execution_count": null,
   "metadata": {},
   "outputs": [],
   "source": []
  },
  {
   "cell_type": "markdown",
   "metadata": {},
   "source": [
    "#### 4. Print *a*.\n"
   ]
  },
  {
   "cell_type": "code",
   "execution_count": 153,
   "metadata": {},
   "outputs": [
    {
     "name": "stdout",
     "output_type": "stream",
     "text": [
      "[[[0.95281461 0.42344926 0.33589809 0.36861483 0.66175244]\n",
      "  [0.90395672 0.43250743 0.26093886 0.63786755 0.34311177]\n",
      "  [0.86220739 0.21921459 0.77414054 0.53069712 0.64578949]]\n",
      "\n",
      " [[0.70624874 0.04503574 0.79977474 0.30770582 0.28368173]\n",
      "  [0.10556142 0.3172159  0.88050982 0.83362984 0.20648477]\n",
      "  [0.33322525 0.16893988 0.19044107 0.19393623 0.50588181]]]\n"
     ]
    }
   ],
   "source": [
    "# your code here\n",
    "print(a)"
   ]
  },
  {
   "cell_type": "markdown",
   "metadata": {},
   "source": [
    "#### 5. Create a 5x2x3 3-dimensional array with all values equaling 1. Assign the array to variable *b*."
   ]
  },
  {
   "cell_type": "code",
   "execution_count": 154,
   "metadata": {},
   "outputs": [],
   "source": [
    "# your code here\n",
    "b = np.ones([5, 2, 3])"
   ]
  },
  {
   "cell_type": "markdown",
   "metadata": {},
   "source": [
    "#### 6. Print *b*.\n"
   ]
  },
  {
   "cell_type": "code",
   "execution_count": 155,
   "metadata": {},
   "outputs": [
    {
     "name": "stdout",
     "output_type": "stream",
     "text": [
      "[[[1. 1. 1.]\n",
      "  [1. 1. 1.]]\n",
      "\n",
      " [[1. 1. 1.]\n",
      "  [1. 1. 1.]]\n",
      "\n",
      " [[1. 1. 1.]\n",
      "  [1. 1. 1.]]\n",
      "\n",
      " [[1. 1. 1.]\n",
      "  [1. 1. 1.]]\n",
      "\n",
      " [[1. 1. 1.]\n",
      "  [1. 1. 1.]]]\n"
     ]
    }
   ],
   "source": [
    "# your code here\n",
    "print(b)"
   ]
  },
  {
   "cell_type": "markdown",
   "metadata": {},
   "source": [
    "#### 7. Do *a* and *b* have the same size? How do you prove that in Python code?"
   ]
  },
  {
   "cell_type": "code",
   "execution_count": 156,
   "metadata": {},
   "outputs": [
    {
     "data": {
      "text/plain": [
       "True"
      ]
     },
     "execution_count": 156,
     "metadata": {},
     "output_type": "execute_result"
    }
   ],
   "source": [
    "# your code here\n",
    "np.size(a) == np.size(b)"
   ]
  },
  {
   "cell_type": "markdown",
   "metadata": {},
   "source": [
    "#### 8. Are you able to add *a* and *b*? Why or why not?\n"
   ]
  },
  {
   "cell_type": "code",
   "execution_count": 157,
   "metadata": {},
   "outputs": [
    {
     "ename": "ValueError",
     "evalue": "operands could not be broadcast together with shapes (2,3,5) (5,2,3) ",
     "output_type": "error",
     "traceback": [
      "\u001b[1;31m---------------------------------------------------------------------------\u001b[0m",
      "\u001b[1;31mValueError\u001b[0m                                Traceback (most recent call last)",
      "\u001b[1;32m<ipython-input-157-154a05c71c36>\u001b[0m in \u001b[0;36m<module>\u001b[1;34m\u001b[0m\n\u001b[0;32m      1\u001b[0m \u001b[1;31m# your answer here\u001b[0m\u001b[1;33m\u001b[0m\u001b[1;33m\u001b[0m\u001b[1;33m\u001b[0m\u001b[0m\n\u001b[1;32m----> 2\u001b[1;33m \u001b[0ma\u001b[0m \u001b[1;33m+\u001b[0m \u001b[0mb\u001b[0m\u001b[1;33m\u001b[0m\u001b[1;33m\u001b[0m\u001b[0m\n\u001b[0m\u001b[0;32m      3\u001b[0m \u001b[1;31m# we can't because their shapes are different\u001b[0m\u001b[1;33m\u001b[0m\u001b[1;33m\u001b[0m\u001b[1;33m\u001b[0m\u001b[0m\n",
      "\u001b[1;31mValueError\u001b[0m: operands could not be broadcast together with shapes (2,3,5) (5,2,3) "
     ]
    }
   ],
   "source": [
    "# your answer here\n",
    "a + b\n",
    "# we can't because their shapes are different"
   ]
  },
  {
   "cell_type": "markdown",
   "metadata": {},
   "source": [
    "#### 9. Transpose *b* so that it has the same structure of *a* (i.e. become a 2x3x5 array). Assign the transposed array to variable *c*."
   ]
  },
  {
   "cell_type": "code",
   "execution_count": 158,
   "metadata": {},
   "outputs": [],
   "source": [
    "# your code here\n",
    "#c = np.resize(b, [2, 3, 5])\n",
    "\n",
    "c = np.reshape(b, [2, 3, 5])"
   ]
  },
  {
   "cell_type": "markdown",
   "metadata": {},
   "source": [
    "#### 10. Try to add *a* and *c*. Now it should work. Assign the sum to variable *d*. But why does it work now?"
   ]
  },
  {
   "cell_type": "code",
   "execution_count": 159,
   "metadata": {},
   "outputs": [],
   "source": [
    "# your code/answer here\n",
    "d = a + c\n",
    "#same shape"
   ]
  },
  {
   "cell_type": "markdown",
   "metadata": {},
   "source": [
    "#### 11. Print *a* and *d*. Notice the difference and relation of the two array in terms of the values? Explain."
   ]
  },
  {
   "cell_type": "code",
   "execution_count": 162,
   "metadata": {},
   "outputs": [
    {
     "name": "stdout",
     "output_type": "stream",
     "text": [
      "[[[0.95281461 0.42344926 0.33589809 0.36861483 0.66175244]\n",
      "  [0.90395672 0.43250743 0.26093886 0.63786755 0.34311177]\n",
      "  [0.86220739 0.21921459 0.77414054 0.53069712 0.64578949]]\n",
      "\n",
      " [[0.70624874 0.04503574 0.79977474 0.30770582 0.28368173]\n",
      "  [0.10556142 0.3172159  0.88050982 0.83362984 0.20648477]\n",
      "  [0.33322525 0.16893988 0.19044107 0.19393623 0.50588181]]]\n",
      "[[[1.95281461 1.42344926 1.33589809 1.36861483 1.66175244]\n",
      "  [1.90395672 1.43250743 1.26093886 1.63786755 1.34311177]\n",
      "  [1.86220739 1.21921459 1.77414054 1.53069712 1.64578949]]\n",
      "\n",
      " [[1.70624874 1.04503574 1.79977474 1.30770582 1.28368173]\n",
      "  [1.10556142 1.3172159  1.88050982 1.83362984 1.20648477]\n",
      "  [1.33322525 1.16893988 1.19044107 1.19393623 1.50588181]]]\n"
     ]
    },
    {
     "data": {
      "text/plain": [
       "True"
      ]
     },
     "execution_count": 162,
     "metadata": {},
     "output_type": "execute_result"
    }
   ],
   "source": [
    "# your code/answer here\n",
    "print(f\"{a}\\n{d}\")\n",
    "# d values equals a values + 1\n",
    "(d == a + 1).all()"
   ]
  },
  {
   "cell_type": "markdown",
   "metadata": {},
   "source": [
    "#### 12. Multiply *a* and *c*. Assign the result to *e*."
   ]
  },
  {
   "cell_type": "code",
   "execution_count": 163,
   "metadata": {},
   "outputs": [
    {
     "data": {
      "text/plain": [
       "array([[[0.95281461, 0.42344926, 0.33589809, 0.36861483, 0.66175244],\n",
       "        [0.90395672, 0.43250743, 0.26093886, 0.63786755, 0.34311177],\n",
       "        [0.86220739, 0.21921459, 0.77414054, 0.53069712, 0.64578949]],\n",
       "\n",
       "       [[0.70624874, 0.04503574, 0.79977474, 0.30770582, 0.28368173],\n",
       "        [0.10556142, 0.3172159 , 0.88050982, 0.83362984, 0.20648477],\n",
       "        [0.33322525, 0.16893988, 0.19044107, 0.19393623, 0.50588181]]])"
      ]
     },
     "execution_count": 163,
     "metadata": {},
     "output_type": "execute_result"
    }
   ],
   "source": [
    "# your code here\n",
    "e = a * c\n",
    "e"
   ]
  },
  {
   "cell_type": "markdown",
   "metadata": {},
   "source": [
    "#### 13. Does *e* equal to *a*? Why or why not?\n"
   ]
  },
  {
   "cell_type": "code",
   "execution_count": 164,
   "metadata": {},
   "outputs": [
    {
     "data": {
      "text/plain": [
       "True"
      ]
     },
     "execution_count": 164,
     "metadata": {},
     "output_type": "execute_result"
    }
   ],
   "source": [
    "# your code/answer here\n",
    "(a == e).all()"
   ]
  },
  {
   "cell_type": "markdown",
   "metadata": {},
   "source": [
    "#### 14. Identify the max, min, and mean values in *d*. Assign those values to variables *d_max*, *d_min* and *d_mean*."
   ]
  },
  {
   "cell_type": "code",
   "execution_count": 116,
   "metadata": {},
   "outputs": [],
   "source": [
    "# your code here\n",
    "d_max = np.max(d)\n",
    "d_min = np.min(d)\n",
    "d_mean = np.mean(d)"
   ]
  },
  {
   "cell_type": "markdown",
   "metadata": {},
   "source": [
    "#### 15. Now we want to label the values in *d*. First create an empty array *f* with the same shape (i.e. 2x3x5) as *d* using `np.empty`.\n"
   ]
  },
  {
   "cell_type": "code",
   "execution_count": 117,
   "metadata": {},
   "outputs": [],
   "source": [
    "# your code here\n",
    "f = np.empty([2,3,5])"
   ]
  },
  {
   "cell_type": "markdown",
   "metadata": {},
   "source": [
    "#### 16. Populate the values in *f*. \n",
    "\n",
    "For each value in *d*, if it's larger than *d_min* but smaller than *d_mean*, assign 25 to the corresponding value in *f*. If a value in *d* is larger than *d_mean* but smaller than *d_max*, assign 75 to the corresponding value in *f*. If a value equals to *d_mean*, assign 50 to the corresponding value in *f*. Assign 0 to the corresponding value(s) in *f* for *d_min* in *d*. Assign 100 to the corresponding value(s) in *f* for *d_max* in *d*. In the end, f should have only the following values: 0, 25, 50, 75, and 100.\n",
    "\n",
    "**Note**: you don't have to use Numpy in this question."
   ]
  },
  {
   "cell_type": "code",
   "execution_count": 144,
   "metadata": {},
   "outputs": [
    {
     "data": {
      "text/plain": [
       "array([[[ 75.,  25.,  25.,  75.,  75.],\n",
       "        [ 25.,  25.,  75.,  25.,  75.],\n",
       "        [ 75.,  75.,  25.,  25.,  75.]],\n",
       "\n",
       "       [[ 75.,  75.,  25.,  25.,  75.],\n",
       "        [ 25., 100.,  25.,  75.,  25.],\n",
       "        [  0.,  75.,  75.,  75.,  25.]]])"
      ]
     },
     "execution_count": 144,
     "metadata": {},
     "output_type": "execute_result"
    }
   ],
   "source": [
    "# your code here\n",
    "\n",
    "for a, a_val in enumerate(d):\n",
    "    for b, b_val in enumerate(a_val):\n",
    "        for c, valeur in enumerate(b_val):\n",
    "            if valeur == d_min:\n",
    "                f[a, b, c] = 0\n",
    "            elif valeur < d_mean:\n",
    "                f[a, b, c] = 25\n",
    "            elif valeur == d_mean:\n",
    "                f[a, b, c] = 50\n",
    "            elif valeur < d_max:\n",
    "                f[a, b, c] = 75\n",
    "            else:\n",
    "                f[a, b, c] = 100\n",
    "\n",
    "f"
   ]
  },
  {
   "cell_type": "code",
   "execution_count": 143,
   "metadata": {},
   "outputs": [
    {
     "data": {
      "text/plain": [
       "[array([[[ 75,  25,  25,  75,  75],\n",
       "         [ 25,  25,  75,  25,  75],\n",
       "         [ 75,  75,  25,  25,  75]],\n",
       " \n",
       "        [[ 75,  75,  25,  25,  75],\n",
       "         [ 25, 100,  25,  75,  25],\n",
       "         [  0,  75,  75,  75,  25]]], dtype=int32)]"
      ]
     },
     "execution_count": 143,
     "metadata": {},
     "output_type": "execute_result"
    }
   ],
   "source": [
    "[(d == d_max) * 100 | ((d < d_max) & (d > d_mean)) * 75 | (d == d_mean) * 50 | ((d < d_mean) & (d > d_min)) * 25 | (d == d_min) * 0]"
   ]
  },
  {
   "cell_type": "markdown",
   "metadata": {},
   "source": [
    "#### 17. Print *d* and *f*. Do you have your expected *f*?\n",
    "For instance, if your *d* is:\n",
    "```python\n",
    "[[[1.85836099, 1.67064465, 1.62576044, 1.40243961, 1.88454931],\n",
    "[1.75354326, 1.69403643, 1.36729252, 1.61415071, 1.12104981],\n",
    "[1.72201435, 1.1862918 , 1.87078449, 1.7726778 , 1.88180042]],\n",
    "[[1.44747908, 1.31673383, 1.02000951, 1.52218947, 1.97066381],\n",
    "[1.79129243, 1.74983003, 1.96028037, 1.85166831, 1.65450881],\n",
    "[1.18068344, 1.9587381 , 1.00656599, 1.93402165, 1.73514584]]]\n",
    "```\n",
    "Your *f* should be:\n",
    "```python\n",
    "[[[ 75.,  75.,  75.,  25.,  75.],\n",
    "[ 75.,  75.,  25.,  25.,  25.],\n",
    "[ 75.,  25.,  75.,  75.,  75.]],\n",
    "[[ 25.,  25.,  25.,  25., 100.],\n",
    "[ 75.,  75.,  75.,  75.,  75.],\n",
    "[ 25.,  75.,   0.,  75.,  75.]]]\n",
    "```"
   ]
  },
  {
   "cell_type": "code",
   "execution_count": 71,
   "metadata": {},
   "outputs": [
    {
     "name": "stdout",
     "output_type": "stream",
     "text": [
      "[[[1.77716615 1.6193706  1.02942469 1.89265798 1.46313391]\n",
      "  [1.27155649 1.39312065 1.10095691 1.5085249  1.56625278]\n",
      "  [1.07420233 1.71528956 1.88204116 1.87372169 1.89580131]]\n",
      "\n",
      " [[1.56198898 1.03307937 1.61408373 1.3397439  1.88461889]\n",
      "  [1.4772916  1.24862963 1.33567296 1.765973   1.49152317]\n",
      "  [1.24225733 1.35592016 1.16029167 1.40181572 1.30032839]]]\n",
      "[[[ 75.  75.   0.  75.  25.]\n",
      "  [ 25.  25.  25.  75.  75.]\n",
      "  [ 25.  75.  75.  75. 100.]]\n",
      "\n",
      " [[ 75.  25.  75.  25.  75.]\n",
      "  [ 75.  25.  25.  75.  75.]\n",
      "  [ 25.  25.  25.  25.  25.]]]\n"
     ]
    }
   ],
   "source": [
    "# your code here\n",
    "print(f\"{d}\\n{f}\")"
   ]
  },
  {
   "cell_type": "markdown",
   "metadata": {},
   "source": [
    "#### 18. Bonus question: instead of using numbers (i.e. 0, 25, 50, 75, and 100), use string values  (\"A\", \"B\", \"C\", \"D\", and \"E\") to label the array elements. For the example above, the expected result is:\n",
    "\n",
    "```python\n",
    "[[[ 'D',  'D',  'D',  'B',  'D'],\n",
    "[ 'D',  'D',  'B',  'B',  'B'],\n",
    "[ 'D',  'B',  'D',  'D',  'D']],\n",
    "[[ 'B',  'B',  'B',  'B',  'E'],\n",
    "[ 'D',  'D',  'D',  'D',  'D'],\n",
    "[ 'B',  'D',   'A',  'D', 'D']]]\n",
    "```\n",
    "**Note**: you don't have to use Numpy in this question."
   ]
  },
  {
   "cell_type": "code",
   "execution_count": 98,
   "metadata": {},
   "outputs": [
    {
     "data": {
      "text/plain": [
       "array([[['D', 'D', 'A', 'D', 'B'],\n",
       "        ['B', 'B', 'B', 'D', 'D'],\n",
       "        ['B', 'D', 'D', 'D', 'E']],\n",
       "\n",
       "       [['D', 'B', 'D', 'B', 'D'],\n",
       "        ['D', 'B', 'B', 'D', 'D'],\n",
       "        ['B', 'B', 'B', 'B', 'B']]], dtype='<U1')"
      ]
     },
     "execution_count": 98,
     "metadata": {},
     "output_type": "execute_result"
    }
   ],
   "source": [
    "liste_resultat = np.empty([2,3,5], dtype='str')\n",
    "\n",
    "for a, a_val in enumerate(d):\n",
    "    for b, b_val in enumerate(a_val):\n",
    "        for c, valeur in enumerate(b_val):\n",
    "            if valeur == d_min:\n",
    "                liste_resultat[a, b, c] = \"A\"\n",
    "            elif valeur < d_mean:\n",
    "                liste_resultat[a, b, c] = \"B\"\n",
    "            elif valeur == d_mean:\n",
    "                liste_resultat[a, b, c] = \"C\"\n",
    "            elif valeur < d_max:\n",
    "                liste_resultat[a, b, c] = \"D\"\n",
    "            else:\n",
    "                liste_resultat[a, b, c] = \"E\"\n",
    "         \n",
    "liste_resultat"
   ]
  },
  {
   "cell_type": "code",
   "execution_count": null,
   "metadata": {},
   "outputs": [],
   "source": []
  }
 ],
 "metadata": {
  "kernelspec": {
   "display_name": "Python 3",
   "language": "python",
   "name": "python3"
  },
  "language_info": {
   "codemirror_mode": {
    "name": "ipython",
    "version": 3
   },
   "file_extension": ".py",
   "mimetype": "text/x-python",
   "name": "python",
   "nbconvert_exporter": "python",
   "pygments_lexer": "ipython3",
   "version": "3.7.6"
  }
 },
 "nbformat": 4,
 "nbformat_minor": 4
}
