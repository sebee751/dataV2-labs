{
 "cells": [
  {
   "cell_type": "markdown",
   "metadata": {},
   "source": [
    "# Introduction To Probability\n",
    "## Challenge 1\n",
    "\n",
    "A and B are events of a probability space with $(\\omega, \\sigma, P)$ such that $P(A) = 0.3$, $P(B) = 0.6$ and $P(A \\cap B) = 0.1$\n",
    "\n",
    "Which of the following statements are false?\n",
    "* $P(A \\cup B) = 0.6$\n",
    "* $P(A \\cap B^{C}) = 0.2$\n",
    "* $P(A \\cap (B \\cup B^{C})) = 0.4$\n",
    "* $P(A^{C} \\cap B^{C}) = 0.3$\n",
    "* $P((A \\cap B)^{C}) = 0.9$"
   ]
  },
  {
   "cell_type": "markdown",
   "metadata": {},
   "source": [
    "\"\"\"\n",
    "your solution here\n",
    "\"\"\"  \n",
    "$P(A) = 0,3\\\\\n",
    "P(B) = 0,6\\\\\n",
    "P(A \\cap B)=0,1\\\\ $\n",
    "\n",
    "$\n",
    "\\\\P(A \\cup B)=P(A) + P(B) - P(A \\cap B) = 0,8 Faux\\\\\n",
    "P(A \\cap B^C) = P(A) - P(A \\cap B) = 0,2 Vrai\\\\\n",
    "P(A \\cap (B \\cup B^C)) = P(A \\cap 1) = P(A) = 0,3 Faux\\\\\n",
    "P(A^C \\cap B^C) = P(B^C) - P(A \\cap B^C) = 0,4 - 0,2 = 0,2 Faux\\\\\n",
    "P((A \\cap B)^C)= 1 - P(A \\cap B) = 0,9 Vrai\n",
    "$"
   ]
  },
  {
   "cell_type": "markdown",
   "metadata": {},
   "source": [
    "## Challenge 2\n",
    "There is a box with 10 white balls, 12 red balls and 8 black balls. Calculate the probability of:\n",
    "* Taking a white ball out.\n",
    "* Taking a white ball out after taking a black ball out.\n",
    "* Taking a red ball out after taking a black and a red ball out.\n",
    "* Taking a red ball out after taking a black and a red ball out with reposition.\n",
    "\n",
    "**Hint**: Reposition means putting back the ball into the box after taking it out."
   ]
  },
  {
   "cell_type": "markdown",
   "metadata": {},
   "source": [
    "\"\"\"\n",
    "your solution here\n",
    "\"\"\"\n",
    "$\n",
    "P(w) = \\frac{10}{30} = \\frac{1}{3}\\\\\n",
    "P(w|b) = \\frac{10}{29} \\\\\n",
    "P(r|(b|r)) = \\frac{11}{28}\\\\\n",
    "P(r|(b|r)) = \\frac{12}{30} = \\frac{2}{5} (independant)\n",
    "$"
   ]
  },
  {
   "cell_type": "markdown",
   "metadata": {},
   "source": [
    "## Challenge 3\n",
    "\n",
    "You are planning to go on a picnic today but the morning is cloudy. You hate rain so you don't know whether to go out or stay home! To help you make a decision, you gather the following data about rainy days:\n",
    "\n",
    "* 50% of all rainy days start off cloudy!\n",
    "* Cloudy mornings are common. About 40% of days start cloudy. \n",
    "* This month is usually dry so only 3 of 30 days (10%) tend to be rainy. \n",
    "\n",
    "What is the chance of rain during the day?"
   ]
  },
  {
   "cell_type": "markdown",
   "metadata": {},
   "source": [
    "\"\"\"\n",
    "your solution here\n",
    "\"\"\"\n",
    "$\n",
    "P(cloudy|rainy) = 0,5\\\\\n",
    "P(cloudy) = 0,4\\\\\n",
    "P(rainy) = 0,1\\\\\n",
    "$\n",
    "\n",
    "$\\\\\n",
    "P(cloudy|rainy) = \\frac{P(cloudy \\cap rainy)}{P(rainy)} \\Rightarrow 0,5 = \\frac{x}{0,1} \\Rightarrow x = 0,05\\\\\n",
    "P(rainy|cloudy) = \\frac{P(rainy \\cap cloudy)}{P(cloudy)} = \\frac{0,05}{0,4} = 0,125\n",
    "$"
   ]
  },
  {
   "cell_type": "markdown",
   "metadata": {},
   "source": [
    "## Challenge 4\n",
    "\n",
    "One thousand people were asked through a telephone survey whether they thought more street lighting is needed at night or not.\n",
    "\n",
    "Out of the 480 men that answered the survey, 324 said yes and 156 said no. On the other hand, out of the 520 women that answered, 351 said yes and 169 said no. \n",
    "\n",
    "We wonder if men and women have a different opinions about the street lighting matter. Is gender relevant or irrelevant to the question?\n",
    "\n",
    "Consider the following events:\n",
    "- The answer is yes, so the person that answered thinks that more street lighting is needed.\n",
    "- The person who answered is a man.\n",
    "\n",
    "We want to know if these events are independent, that is, if the fact of wanting more light depends on whether one is male or female. Are these events independent or not?\n",
    "\n",
    "**Hint**: To clearly compare the answers by gender, it is best to place the data in a table."
   ]
  },
  {
   "cell_type": "code",
   "execution_count": 23,
   "metadata": {},
   "outputs": [],
   "source": [
    "# your code here\n",
    "import pandas as pd\n",
    "\n",
    "survey = pd.DataFrame({'men': [324, 156], 'women': [351,169]}, index = ['yes', 'no'])"
   ]
  },
  {
   "cell_type": "code",
   "execution_count": 28,
   "metadata": {},
   "outputs": [
    {
     "name": "stdout",
     "output_type": "stream",
     "text": [
      "0.675 0.325\n",
      "0.675 0.325\n",
      "0.675 0.325\n"
     ]
    }
   ],
   "source": [
    "\"\"\"\n",
    "your solution here\n",
    "\"\"\"\n",
    "\n",
    "p_yes_women = survey.women.yes/survey.women.sum()\n",
    "p_no_women = survey.women.no/survey.women.sum()\n",
    "\n",
    "p_yes_men = survey.men.yes/survey.men.sum()\n",
    "p_no_men = survey.men.no/survey.men.sum()\n",
    "\n",
    "p_yes = survey.loc['yes'].sum() / survey.sum().sum()\n",
    "p_no = survey.loc['no'].sum() / survey.sum().sum()\n",
    "\n",
    "print(f'{p_yes} {p_no}\\n{p_yes_men} {p_no_men}\\n{p_yes_women} {p_no_women}')"
   ]
  },
  {
   "cell_type": "code",
   "execution_count": 36,
   "metadata": {},
   "outputs": [
    {
     "data": {
      "text/html": [
       "<div>\n",
       "<style scoped>\n",
       "    .dataframe tbody tr th:only-of-type {\n",
       "        vertical-align: middle;\n",
       "    }\n",
       "\n",
       "    .dataframe tbody tr th {\n",
       "        vertical-align: top;\n",
       "    }\n",
       "\n",
       "    .dataframe thead th {\n",
       "        text-align: right;\n",
       "    }\n",
       "</style>\n",
       "<table border=\"1\" class=\"dataframe\">\n",
       "  <thead>\n",
       "    <tr style=\"text-align: right;\">\n",
       "      <th></th>\n",
       "      <th>men</th>\n",
       "      <th>women</th>\n",
       "    </tr>\n",
       "  </thead>\n",
       "  <tbody>\n",
       "    <tr>\n",
       "      <th>yes</th>\n",
       "      <td>0.675</td>\n",
       "      <td>0.675</td>\n",
       "    </tr>\n",
       "    <tr>\n",
       "      <th>no</th>\n",
       "      <td>0.325</td>\n",
       "      <td>0.325</td>\n",
       "    </tr>\n",
       "  </tbody>\n",
       "</table>\n",
       "</div>"
      ],
      "text/plain": [
       "       men  women\n",
       "yes  0.675  0.675\n",
       "no   0.325  0.325"
      ]
     },
     "execution_count": 36,
     "metadata": {},
     "output_type": "execute_result"
    }
   ],
   "source": [
    "survey/survey.sum(axis = \"index\")"
   ]
  },
  {
   "cell_type": "code",
   "execution_count": null,
   "metadata": {},
   "outputs": [],
   "source": []
  }
 ],
 "metadata": {
  "kernelspec": {
   "display_name": "Python 3",
   "language": "python",
   "name": "python3"
  },
  "language_info": {
   "codemirror_mode": {
    "name": "ipython",
    "version": 3
   },
   "file_extension": ".py",
   "mimetype": "text/x-python",
   "name": "python",
   "nbconvert_exporter": "python",
   "pygments_lexer": "ipython3",
   "version": "3.7.7"
  }
 },
 "nbformat": 4,
 "nbformat_minor": 4
}
